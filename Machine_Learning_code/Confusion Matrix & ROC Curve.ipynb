{
 "cells": [
  {
   "cell_type": "markdown",
   "metadata": {},
   "source": [
    "# Confusion Matrix and ROC Curve"
   ]
  },
  {
   "cell_type": "markdown",
   "metadata": {},
   "source": [
    "### Import required libraries"
   ]
  },
  {
   "cell_type": "code",
   "execution_count": 88,
   "metadata": {},
   "outputs": [],
   "source": [
    "import pandas as pd\n",
    "import numpy as np\n",
    "import seaborn as sns\n",
    "import matplotlib.pyplot as plt\n",
    "\n",
    "from lightgbm import LGBMClassifier\n",
    "from sklearn.metrics import accuracy_score\n",
    "from sklearn.metrics import confusion_matrix\n",
    "from sklearn.model_selection import train_test_split\n",
    "from sklearn.metrics import classification_report, roc_auc_score, precision_recall_curve, roc_curve\n",
    "from sklearn.metrics import auc, average_precision_score\n",
    "\n",
    "from imblearn.combine import SMOTETomek"
   ]
  },
  {
   "cell_type": "markdown",
   "metadata": {},
   "source": [
    "### Read Preprocessed data"
   ]
  },
  {
   "cell_type": "code",
   "execution_count": 89,
   "metadata": {},
   "outputs": [
    {
     "data": {
      "text/html": [
       "<div>\n",
       "<style scoped>\n",
       "    .dataframe tbody tr th:only-of-type {\n",
       "        vertical-align: middle;\n",
       "    }\n",
       "\n",
       "    .dataframe tbody tr th {\n",
       "        vertical-align: top;\n",
       "    }\n",
       "\n",
       "    .dataframe thead th {\n",
       "        text-align: right;\n",
       "    }\n",
       "</style>\n",
       "<table border=\"1\" class=\"dataframe\">\n",
       "  <thead>\n",
       "    <tr style=\"text-align: right;\">\n",
       "      <th></th>\n",
       "      <th>CreditScore</th>\n",
       "      <th>Age</th>\n",
       "      <th>Tenure</th>\n",
       "      <th>Balance</th>\n",
       "      <th>NumOfProducts</th>\n",
       "      <th>EstimatedSalary</th>\n",
       "      <th>NewAGT</th>\n",
       "      <th>CreditsScore</th>\n",
       "      <th>AgeScore</th>\n",
       "      <th>BalanceScore</th>\n",
       "      <th>EstSalaryScore</th>\n",
       "      <th>NewEstimatedSalary</th>\n",
       "      <th>Geography_France</th>\n",
       "      <th>Geography_Germany</th>\n",
       "      <th>Geography_Spain</th>\n",
       "      <th>Gender_Female</th>\n",
       "      <th>Gender_Male</th>\n",
       "      <th>HasCrCard</th>\n",
       "      <th>IsActiveMember</th>\n",
       "      <th>Exited</th>\n",
       "    </tr>\n",
       "    <tr>\n",
       "      <th>RowNumber</th>\n",
       "      <th></th>\n",
       "      <th></th>\n",
       "      <th></th>\n",
       "      <th></th>\n",
       "      <th></th>\n",
       "      <th></th>\n",
       "      <th></th>\n",
       "      <th></th>\n",
       "      <th></th>\n",
       "      <th></th>\n",
       "      <th></th>\n",
       "      <th></th>\n",
       "      <th></th>\n",
       "      <th></th>\n",
       "      <th></th>\n",
       "      <th></th>\n",
       "      <th></th>\n",
       "      <th></th>\n",
       "      <th></th>\n",
       "      <th></th>\n",
       "    </tr>\n",
       "  </thead>\n",
       "  <tbody>\n",
       "    <tr>\n",
       "      <th>1</th>\n",
       "      <td>-0.246269</td>\n",
       "      <td>0.416667</td>\n",
       "      <td>-0.75</td>\n",
       "      <td>-0.761480</td>\n",
       "      <td>0.0</td>\n",
       "      <td>0.011739</td>\n",
       "      <td>0.666667</td>\n",
       "      <td>-0.2</td>\n",
       "      <td>0.50</td>\n",
       "      <td>-0.9</td>\n",
       "      <td>0.1</td>\n",
       "      <td>0.011739</td>\n",
       "      <td>1</td>\n",
       "      <td>0</td>\n",
       "      <td>0</td>\n",
       "      <td>1</td>\n",
       "      <td>0</td>\n",
       "      <td>1</td>\n",
       "      <td>1</td>\n",
       "      <td>1</td>\n",
       "    </tr>\n",
       "    <tr>\n",
       "      <th>2</th>\n",
       "      <td>-0.328358</td>\n",
       "      <td>0.333333</td>\n",
       "      <td>-1.00</td>\n",
       "      <td>-0.104906</td>\n",
       "      <td>0.0</td>\n",
       "      <td>0.125512</td>\n",
       "      <td>0.666667</td>\n",
       "      <td>-0.2</td>\n",
       "      <td>0.50</td>\n",
       "      <td>-0.1</td>\n",
       "      <td>0.1</td>\n",
       "      <td>0.125512</td>\n",
       "      <td>0</td>\n",
       "      <td>0</td>\n",
       "      <td>1</td>\n",
       "      <td>1</td>\n",
       "      <td>0</td>\n",
       "      <td>0</td>\n",
       "      <td>1</td>\n",
       "      <td>0</td>\n",
       "    </tr>\n",
       "    <tr>\n",
       "      <th>3</th>\n",
       "      <td>-1.119403</td>\n",
       "      <td>0.416667</td>\n",
       "      <td>0.75</td>\n",
       "      <td>0.489346</td>\n",
       "      <td>2.0</td>\n",
       "      <td>0.139630</td>\n",
       "      <td>0.166667</td>\n",
       "      <td>-0.8</td>\n",
       "      <td>0.50</td>\n",
       "      <td>0.9</td>\n",
       "      <td>0.1</td>\n",
       "      <td>0.139630</td>\n",
       "      <td>1</td>\n",
       "      <td>0</td>\n",
       "      <td>0</td>\n",
       "      <td>1</td>\n",
       "      <td>0</td>\n",
       "      <td>1</td>\n",
       "      <td>0</td>\n",
       "      <td>1</td>\n",
       "    </tr>\n",
       "    <tr>\n",
       "      <th>4</th>\n",
       "      <td>0.350746</td>\n",
       "      <td>0.166667</td>\n",
       "      <td>-1.00</td>\n",
       "      <td>-0.761480</td>\n",
       "      <td>1.0</td>\n",
       "      <td>-0.064717</td>\n",
       "      <td>0.500000</td>\n",
       "      <td>0.4</td>\n",
       "      <td>0.25</td>\n",
       "      <td>-0.9</td>\n",
       "      <td>-0.1</td>\n",
       "      <td>-0.064717</td>\n",
       "      <td>1</td>\n",
       "      <td>0</td>\n",
       "      <td>0</td>\n",
       "      <td>1</td>\n",
       "      <td>0</td>\n",
       "      <td>0</td>\n",
       "      <td>0</td>\n",
       "      <td>0</td>\n",
       "    </tr>\n",
       "    <tr>\n",
       "      <th>5</th>\n",
       "      <td>1.477612</td>\n",
       "      <td>0.500000</td>\n",
       "      <td>-0.75</td>\n",
       "      <td>0.221806</td>\n",
       "      <td>0.0</td>\n",
       "      <td>-0.214561</td>\n",
       "      <td>0.750000</td>\n",
       "      <td>1.0</td>\n",
       "      <td>0.50</td>\n",
       "      <td>0.5</td>\n",
       "      <td>-0.3</td>\n",
       "      <td>-0.214561</td>\n",
       "      <td>0</td>\n",
       "      <td>0</td>\n",
       "      <td>1</td>\n",
       "      <td>1</td>\n",
       "      <td>0</td>\n",
       "      <td>1</td>\n",
       "      <td>1</td>\n",
       "      <td>0</td>\n",
       "    </tr>\n",
       "  </tbody>\n",
       "</table>\n",
       "</div>"
      ],
      "text/plain": [
       "           CreditScore       Age  Tenure   Balance  NumOfProducts  \\\n",
       "RowNumber                                                           \n",
       "1            -0.246269  0.416667   -0.75 -0.761480            0.0   \n",
       "2            -0.328358  0.333333   -1.00 -0.104906            0.0   \n",
       "3            -1.119403  0.416667    0.75  0.489346            2.0   \n",
       "4             0.350746  0.166667   -1.00 -0.761480            1.0   \n",
       "5             1.477612  0.500000   -0.75  0.221806            0.0   \n",
       "\n",
       "           EstimatedSalary    NewAGT  CreditsScore  AgeScore  BalanceScore  \\\n",
       "RowNumber                                                                    \n",
       "1                 0.011739  0.666667          -0.2      0.50          -0.9   \n",
       "2                 0.125512  0.666667          -0.2      0.50          -0.1   \n",
       "3                 0.139630  0.166667          -0.8      0.50           0.9   \n",
       "4                -0.064717  0.500000           0.4      0.25          -0.9   \n",
       "5                -0.214561  0.750000           1.0      0.50           0.5   \n",
       "\n",
       "           EstSalaryScore  NewEstimatedSalary  Geography_France  \\\n",
       "RowNumber                                                         \n",
       "1                     0.1            0.011739                 1   \n",
       "2                     0.1            0.125512                 0   \n",
       "3                     0.1            0.139630                 1   \n",
       "4                    -0.1           -0.064717                 1   \n",
       "5                    -0.3           -0.214561                 0   \n",
       "\n",
       "           Geography_Germany  Geography_Spain  Gender_Female  Gender_Male  \\\n",
       "RowNumber                                                                   \n",
       "1                          0                0              1            0   \n",
       "2                          0                1              1            0   \n",
       "3                          0                0              1            0   \n",
       "4                          0                0              1            0   \n",
       "5                          0                1              1            0   \n",
       "\n",
       "           HasCrCard  IsActiveMember  Exited  \n",
       "RowNumber                                     \n",
       "1                  1               1       1  \n",
       "2                  0               1       0  \n",
       "3                  1               0       1  \n",
       "4                  0               0       0  \n",
       "5                  1               1       0  "
      ]
     },
     "execution_count": 89,
     "metadata": {},
     "output_type": "execute_result"
    }
   ],
   "source": [
    "df = pd.read_csv(\"data/preprocessed_data.csv\", index_col=0)\n",
    "df.head()"
   ]
  },
  {
   "cell_type": "markdown",
   "metadata": {},
   "source": [
    "### Train best performing model with opitmal hyperparameters from GridSearch"
   ]
  },
  {
   "cell_type": "code",
   "execution_count": 90,
   "metadata": {},
   "outputs": [],
   "source": [
    "X = df.drop([\"Exited\"], axis = 1)\n",
    "y = df[\"Exited\"]"
   ]
  },
  {
   "cell_type": "code",
   "execution_count": 91,
   "metadata": {},
   "outputs": [],
   "source": [
    "X_train, X_test, y_train, y_test = train_test_split(X, y, \n",
    "                                                    test_size=0.20, \n",
    "                                                    random_state=12345)"
   ]
  },
  {
   "cell_type": "code",
   "execution_count": 92,
   "metadata": {},
   "outputs": [],
   "source": [
    "smk = SMOTETomek()\n",
    "\n",
    "X_train, y_train = smk.fit_sample(X_train, y_train)\n",
    "X_test, y_test = smk.fit_sample(X_test, y_test)"
   ]
  },
  {
   "cell_type": "code",
   "execution_count": 93,
   "metadata": {},
   "outputs": [
    {
     "name": "stdout",
     "output_type": "stream",
     "text": [
      "(12682, 19) (3122, 19) (12682,) (3122,)\n"
     ]
    }
   ],
   "source": [
    "print(X_train.shape, X_test.shape, y_train.shape, y_test.shape)"
   ]
  },
  {
   "cell_type": "code",
   "execution_count": 94,
   "metadata": {},
   "outputs": [],
   "source": [
    "model = LGBMClassifier(random_state = 12345,  learning_rate = 0.05, max_depth = 5, n_estimators = 1000)\n",
    "base = model.fit(X_train,y_train)\n",
    "y_pred = base.predict(X_test)\n",
    "acc_score = accuracy_score(y_test, y_pred)"
   ]
  },
  {
   "cell_type": "markdown",
   "metadata": {},
   "source": [
    "## Confusion Matrix\n",
    "### Is a table that is often used to describe the performance of a classification model on a set of test data for which the true values are known."
   ]
  },
  {
   "cell_type": "code",
   "execution_count": 95,
   "metadata": {},
   "outputs": [
    {
     "data": {
      "text/plain": [
       "array([[1487,   74],\n",
       "       [ 228, 1333]], dtype=int64)"
      ]
     },
     "execution_count": 95,
     "metadata": {},
     "output_type": "execute_result"
    }
   ],
   "source": [
    "confusion_matrix(y_test, y_pred)"
   ]
  },
  {
   "cell_type": "code",
   "execution_count": 96,
   "metadata": {},
   "outputs": [
    {
     "name": "stdout",
     "output_type": "stream",
     "text": [
      "True Negatives:  1487\n",
      "False Positives:  74\n",
      "False Negatives:  228\n",
      "True Positives:  1333\n"
     ]
    }
   ],
   "source": [
    "tn, fp, fn, tp = confusion_matrix(y_test,y_pred).ravel()\n",
    "print(\"True Negatives: \",tn)\n",
    "print(\"False Positives: \",fp)\n",
    "print(\"False Negatives: \",fn)\n",
    "print(\"True Positives: \",tp)"
   ]
  },
  {
   "cell_type": "markdown",
   "metadata": {},
   "source": [
    "## Evaluating the model"
   ]
  },
  {
   "cell_type": "code",
   "execution_count": 97,
   "metadata": {},
   "outputs": [],
   "source": [
    "def confusion_matrix_analysis(true,pred):\n",
    "    tn, fp, fn, tp = confusion_matrix(true, pred).ravel()\n",
    "    precision = tp/(tp+fp)\n",
    "    tpr = tp/(tp+fn)\n",
    "    fpr = fp/(fp+tn)\n",
    "    f_score = 2*precision*tpr/(precision+tpr)\n",
    "    accuracy = (tp+tn)/(tp+tn+fp+fn)\n",
    "    print(\"Precision:\\t\\t\\t%1.2f identified as mines are mines\"%(precision))\n",
    "    print(\"Recall/TPR:\\t\\t\\t%1.2f proportion of actual mines identified\"%(tpr))\n",
    "    print(\"False Positive Rate:\\t\\t%1.2f proportion of rocks identified as mines\"%fpr)\n",
    "    print(\"f-score:\\t\\t\\t%1.2f tradeoff between precision and recall\"%(f_score))\n",
    "    print(\"Accuracy:\\t\\t\\t%1.2f how well the model has classified\"%(accuracy))"
   ]
  },
  {
   "cell_type": "code",
   "execution_count": 98,
   "metadata": {},
   "outputs": [
    {
     "name": "stdout",
     "output_type": "stream",
     "text": [
      "Precision:\t\t\t0.95 identified as mines are mines\n",
      "Recall/TPR:\t\t\t0.85 proportion of actual mines identified\n",
      "False Positive Rate:\t\t0.05 proportion of rocks identified as mines\n",
      "f-score:\t\t\t0.90 tradeoff between precision and recall\n",
      "Accuracy:\t\t\t0.90 how well the model has classified\n"
     ]
    }
   ],
   "source": [
    "confusion_matrix_analysis(y_test,y_pred)"
   ]
  },
  {
   "cell_type": "markdown",
   "metadata": {},
   "source": [
    "## ROC Curve (receiver operating characteristic curve)\n",
    "### Is a graph showing the performance of a classification model at all classification thresholds. AUC stands for \"Area under the ROC Curve.\" That is, AUC measures the entire two-dimensional area underneath the entire ROC curve. AUC provides an aggregate measure of performance across all possible classification thresholds."
   ]
  },
  {
   "cell_type": "code",
   "execution_count": 99,
   "metadata": {},
   "outputs": [
    {
     "data": {
      "image/png": "[encoded data removed]",
      "text/plain": [
       "<Figure size 432x288 with 1 Axes>"
      ]
     },
     "metadata": {
      "needs_background": "light"
     },
     "output_type": "display_data"
    }
   ],
   "source": [
    "lbgm_tuned = model\n",
    "y_pred_prob = lbgm_tuned.predict_proba(X_test)[:,1]\n",
    "fig, ax = plt.subplots()\n",
    "fpr, tpr, thresholds_roc = roc_curve(y_test, y_pred_prob)\n",
    "roc_auc = auc(fpr,tpr)\n",
    "ax.plot(fpr,tpr, label = \" area = {:0.2f}\".format(roc_auc))\n",
    "ax.plot([0,1], [0,1], 'r', linestyle = \"--\", lw = 2)\n",
    "ax.set_xlabel(\"False Positive Rate\", fontsize = 10)\n",
    "ax.set_ylabel(\"True Positive Rate\", fontsize = 10)\n",
    "ax.set_title(\"ROC Curve\", fontsize = 18)\n",
    "ax.legend(loc = 'best')\n",
    "\n",
    "close_default = np.argmin(np.abs(thresholds_roc - 0.5))\n",
    "ax.plot(fpr[close_default], tpr[close_default], 'o', markersize = 8)\n",
    "plt.tight_layout()"
   ]
  },
  {
   "cell_type": "code",
   "execution_count": null,
   "metadata": {},
   "outputs": [],
   "source": []
  }
 ],
 "metadata": {
  "kernelspec": {
   "display_name": "Python 3",
   "language": "python",
   "name": "python3"
  },
  "language_info": {
   "codemirror_mode": {
    "name": "ipython",
    "version": 3
   },
   "file_extension": ".py",
   "mimetype": "text/x-python",
   "name": "python",
   "nbconvert_exporter": "python",
   "pygments_lexer": "ipython3",
   "version": "3.8.5"
  }
 },
 "nbformat": 4,
 "nbformat_minor": 4
}
