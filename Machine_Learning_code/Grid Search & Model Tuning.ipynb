{
 "cells": [
  {
   "cell_type": "markdown",
   "metadata": {},
   "source": [
    "# Grid Search & Model Tuning\n",
    "### While the generic set of hyperparameters for each algorithm provides a starting point for analysis and will generally result in a well-performing model, it may not have the optimal configurations for your particular dataset and business problem. In order to find the best hyperparameters for your data, you need to tune them"
   ]
  },
  {
   "cell_type": "markdown",
   "metadata": {},
   "source": [
    "### Import required libraries"
   ]
  },
  {
   "cell_type": "code",
   "execution_count": 6,
   "metadata": {},
   "outputs": [],
   "source": [
    "import pandas as pd\n",
    "import numpy as np\n",
    "import seaborn as sns\n",
    "import matplotlib.pyplot as plt\n",
    "\n",
    "from xgboost import XGBClassifier\n",
    "from lightgbm import LGBMClassifier\n",
    "from sklearn.ensemble import GradientBoostingClassifier\n",
    "from catboost import CatBoostClassifier\n",
    "\n",
    "from sklearn.metrics import accuracy_score\n",
    "from sklearn.model_selection import train_test_split\n",
    "\n",
    "from imblearn.combine import SMOTETomek"
   ]
  },
  {
   "cell_type": "markdown",
   "metadata": {},
   "source": [
    "### Read Preprocessed data"
   ]
  },
  {
   "cell_type": "code",
   "execution_count": 7,
   "metadata": {},
   "outputs": [
    {
     "data": {
      "text/html": [
       "<div>\n",
       "<style scoped>\n",
       "    .dataframe tbody tr th:only-of-type {\n",
       "        vertical-align: middle;\n",
       "    }\n",
       "\n",
       "    .dataframe tbody tr th {\n",
       "        vertical-align: top;\n",
       "    }\n",
       "\n",
       "    .dataframe thead th {\n",
       "        text-align: right;\n",
       "    }\n",
       "</style>\n",
       "<table border=\"1\" class=\"dataframe\">\n",
       "  <thead>\n",
       "    <tr style=\"text-align: right;\">\n",
       "      <th></th>\n",
       "      <th>CreditScore</th>\n",
       "      <th>Age</th>\n",
       "      <th>Tenure</th>\n",
       "      <th>Balance</th>\n",
       "      <th>NumOfProducts</th>\n",
       "      <th>EstimatedSalary</th>\n",
       "      <th>NewAGT</th>\n",
       "      <th>CreditsScore</th>\n",
       "      <th>AgeScore</th>\n",
       "      <th>BalanceScore</th>\n",
       "      <th>EstSalaryScore</th>\n",
       "      <th>NewEstimatedSalary</th>\n",
       "      <th>Geography_France</th>\n",
       "      <th>Geography_Germany</th>\n",
       "      <th>Geography_Spain</th>\n",
       "      <th>Gender_Female</th>\n",
       "      <th>Gender_Male</th>\n",
       "      <th>HasCrCard</th>\n",
       "      <th>IsActiveMember</th>\n",
       "      <th>Exited</th>\n",
       "    </tr>\n",
       "    <tr>\n",
       "      <th>RowNumber</th>\n",
       "      <th></th>\n",
       "      <th></th>\n",
       "      <th></th>\n",
       "      <th></th>\n",
       "      <th></th>\n",
       "      <th></th>\n",
       "      <th></th>\n",
       "      <th></th>\n",
       "      <th></th>\n",
       "      <th></th>\n",
       "      <th></th>\n",
       "      <th></th>\n",
       "      <th></th>\n",
       "      <th></th>\n",
       "      <th></th>\n",
       "      <th></th>\n",
       "      <th></th>\n",
       "      <th></th>\n",
       "      <th></th>\n",
       "      <th></th>\n",
       "    </tr>\n",
       "  </thead>\n",
       "  <tbody>\n",
       "    <tr>\n",
       "      <th>1</th>\n",
       "      <td>-0.246269</td>\n",
       "      <td>0.416667</td>\n",
       "      <td>-0.75</td>\n",
       "      <td>-0.761480</td>\n",
       "      <td>0.0</td>\n",
       "      <td>0.011739</td>\n",
       "      <td>0.666667</td>\n",
       "      <td>-0.2</td>\n",
       "      <td>0.50</td>\n",
       "      <td>-0.9</td>\n",
       "      <td>0.1</td>\n",
       "      <td>0.011739</td>\n",
       "      <td>1</td>\n",
       "      <td>0</td>\n",
       "      <td>0</td>\n",
       "      <td>1</td>\n",
       "      <td>0</td>\n",
       "      <td>1</td>\n",
       "      <td>1</td>\n",
       "      <td>1</td>\n",
       "    </tr>\n",
       "    <tr>\n",
       "      <th>2</th>\n",
       "      <td>-0.328358</td>\n",
       "      <td>0.333333</td>\n",
       "      <td>-1.00</td>\n",
       "      <td>-0.104906</td>\n",
       "      <td>0.0</td>\n",
       "      <td>0.125512</td>\n",
       "      <td>0.666667</td>\n",
       "      <td>-0.2</td>\n",
       "      <td>0.50</td>\n",
       "      <td>-0.1</td>\n",
       "      <td>0.1</td>\n",
       "      <td>0.125512</td>\n",
       "      <td>0</td>\n",
       "      <td>0</td>\n",
       "      <td>1</td>\n",
       "      <td>1</td>\n",
       "      <td>0</td>\n",
       "      <td>0</td>\n",
       "      <td>1</td>\n",
       "      <td>0</td>\n",
       "    </tr>\n",
       "    <tr>\n",
       "      <th>3</th>\n",
       "      <td>-1.119403</td>\n",
       "      <td>0.416667</td>\n",
       "      <td>0.75</td>\n",
       "      <td>0.489346</td>\n",
       "      <td>2.0</td>\n",
       "      <td>0.139630</td>\n",
       "      <td>0.166667</td>\n",
       "      <td>-0.8</td>\n",
       "      <td>0.50</td>\n",
       "      <td>0.9</td>\n",
       "      <td>0.1</td>\n",
       "      <td>0.139630</td>\n",
       "      <td>1</td>\n",
       "      <td>0</td>\n",
       "      <td>0</td>\n",
       "      <td>1</td>\n",
       "      <td>0</td>\n",
       "      <td>1</td>\n",
       "      <td>0</td>\n",
       "      <td>1</td>\n",
       "    </tr>\n",
       "    <tr>\n",
       "      <th>4</th>\n",
       "      <td>0.350746</td>\n",
       "      <td>0.166667</td>\n",
       "      <td>-1.00</td>\n",
       "      <td>-0.761480</td>\n",
       "      <td>1.0</td>\n",
       "      <td>-0.064717</td>\n",
       "      <td>0.500000</td>\n",
       "      <td>0.4</td>\n",
       "      <td>0.25</td>\n",
       "      <td>-0.9</td>\n",
       "      <td>-0.1</td>\n",
       "      <td>-0.064717</td>\n",
       "      <td>1</td>\n",
       "      <td>0</td>\n",
       "      <td>0</td>\n",
       "      <td>1</td>\n",
       "      <td>0</td>\n",
       "      <td>0</td>\n",
       "      <td>0</td>\n",
       "      <td>0</td>\n",
       "    </tr>\n",
       "    <tr>\n",
       "      <th>5</th>\n",
       "      <td>1.477612</td>\n",
       "      <td>0.500000</td>\n",
       "      <td>-0.75</td>\n",
       "      <td>0.221806</td>\n",
       "      <td>0.0</td>\n",
       "      <td>-0.214561</td>\n",
       "      <td>0.750000</td>\n",
       "      <td>1.0</td>\n",
       "      <td>0.50</td>\n",
       "      <td>0.5</td>\n",
       "      <td>-0.3</td>\n",
       "      <td>-0.214561</td>\n",
       "      <td>0</td>\n",
       "      <td>0</td>\n",
       "      <td>1</td>\n",
       "      <td>1</td>\n",
       "      <td>0</td>\n",
       "      <td>1</td>\n",
       "      <td>1</td>\n",
       "      <td>0</td>\n",
       "    </tr>\n",
       "  </tbody>\n",
       "</table>\n",
       "</div>"
      ],
      "text/plain": [
       "           CreditScore       Age  Tenure   Balance  NumOfProducts  \\\n",
       "RowNumber                                                           \n",
       "1            -0.246269  0.416667   -0.75 -0.761480            0.0   \n",
       "2            -0.328358  0.333333   -1.00 -0.104906            0.0   \n",
       "3            -1.119403  0.416667    0.75  0.489346            2.0   \n",
       "4             0.350746  0.166667   -1.00 -0.761480            1.0   \n",
       "5             1.477612  0.500000   -0.75  0.221806            0.0   \n",
       "\n",
       "           EstimatedSalary    NewAGT  CreditsScore  AgeScore  BalanceScore  \\\n",
       "RowNumber                                                                    \n",
       "1                 0.011739  0.666667          -0.2      0.50          -0.9   \n",
       "2                 0.125512  0.666667          -0.2      0.50          -0.1   \n",
       "3                 0.139630  0.166667          -0.8      0.50           0.9   \n",
       "4                -0.064717  0.500000           0.4      0.25          -0.9   \n",
       "5                -0.214561  0.750000           1.0      0.50           0.5   \n",
       "\n",
       "           EstSalaryScore  NewEstimatedSalary  Geography_France  \\\n",
       "RowNumber                                                         \n",
       "1                     0.1            0.011739                 1   \n",
       "2                     0.1            0.125512                 0   \n",
       "3                     0.1            0.139630                 1   \n",
       "4                    -0.1           -0.064717                 1   \n",
       "5                    -0.3           -0.214561                 0   \n",
       "\n",
       "           Geography_Germany  Geography_Spain  Gender_Female  Gender_Male  \\\n",
       "RowNumber                                                                   \n",
       "1                          0                0              1            0   \n",
       "2                          0                1              1            0   \n",
       "3                          0                0              1            0   \n",
       "4                          0                0              1            0   \n",
       "5                          0                1              1            0   \n",
       "\n",
       "           HasCrCard  IsActiveMember  Exited  \n",
       "RowNumber                                     \n",
       "1                  1               1       1  \n",
       "2                  0               1       0  \n",
       "3                  1               0       1  \n",
       "4                  0               0       0  \n",
       "5                  1               1       0  "
      ]
     },
     "execution_count": 7,
     "metadata": {},
     "output_type": "execute_result"
    }
   ],
   "source": [
    "df = pd.read_csv(\"data/preprocessed_data.csv\", index_col=0)\n",
    "df.head()"
   ]
  },
  {
   "cell_type": "code",
   "execution_count": 8,
   "metadata": {},
   "outputs": [],
   "source": [
    "X = df.drop([\"Exited\"], axis = 1)\n",
    "y = df[\"Exited\"]"
   ]
  },
  {
   "cell_type": "code",
   "execution_count": 10,
   "metadata": {},
   "outputs": [],
   "source": [
    "X_train, X_test, y_train, y_test = train_test_split(X, y, \n",
    "                                                    test_size=0.20, \n",
    "                                                    random_state=12345)"
   ]
  },
  {
   "cell_type": "code",
   "execution_count": 11,
   "metadata": {},
   "outputs": [],
   "source": [
    "smk = SMOTETomek()\n",
    "\n",
    "X_train, y_train = smk.fit_sample(X_train, y_train)\n",
    "X_test, y_test = smk.fit_sample(X_test, y_test)"
   ]
  },
  {
   "cell_type": "code",
   "execution_count": 12,
   "metadata": {},
   "outputs": [
    {
     "name": "stdout",
     "output_type": "stream",
     "text": [
      "(12670, 19) (3116, 19) (12670,) (3116,)\n"
     ]
    }
   ],
   "source": [
    "print(X_train.shape, X_test.shape, y_train.shape, y_test.shape)"
   ]
  },
  {
   "cell_type": "markdown",
   "metadata": {},
   "source": [
    "## Grid Search\n",
    "### Searches for optimum hyperparameters exhaustively through a manually specified subset of the hyperparameter space of the targeted algorithm"
   ]
  },
  {
   "cell_type": "code",
   "execution_count": 23,
   "metadata": {},
   "outputs": [
    {
     "name": "stdout",
     "output_type": "stream",
     "text": [
      "Fitting 3 folds for each of 16 candidates, totalling 48 fits\n"
     ]
    },
    {
     "name": "stderr",
     "output_type": "stream",
     "text": [
      "[Parallel(n_jobs=1)]: Using backend SequentialBackend with 1 concurrent workers.\n",
      "[Parallel(n_jobs=1)]: Done  48 out of  48 | elapsed: 28.7min finished\n",
      "C:\\Users\\Shlok\\anaconda3\\lib\\site-packages\\sklearn\\model_selection\\_search.py:847: FutureWarning: The parameter 'iid' is deprecated in 0.22 and will be removed in 0.24.\n",
      "  warnings.warn(\n"
     ]
    },
    {
     "name": "stdout",
     "output_type": "stream",
     "text": [
      "Wall time: 30min 41s\n"
     ]
    },
    {
     "data": {
      "text/plain": [
       "(0.8922936924464834,\n",
       " {'learning_rate': 0.01,\n",
       "  'max_depth': 10,\n",
       "  'n_estimators': 1000,\n",
       "  'subsample': 0.8})"
      ]
     },
     "execution_count": 23,
     "metadata": {},
     "output_type": "execute_result"
    }
   ],
   "source": [
    "%%time\n",
    "from sklearn.model_selection import GridSearchCV\n",
    "parameters = {\n",
    "     'n_estimators':(500, 1000), \n",
    "     'subsample':(0.5, 0.8),\n",
    "     'max_depth':(5, 10),\n",
    "     'learning_rate':(0.01, 0.05)     \n",
    "}\n",
    "\n",
    "model = GridSearchCV(GradientBoostingClassifier(),parameters,cv=3,iid=False, scoring='accuracy', verbose=1)\n",
    "model.fit(X_train, np.ravel(y_train))\n",
    "model.best_score_, model.best_params_"
   ]
  },
  {
   "cell_type": "code",
   "execution_count": 27,
   "metadata": {},
   "outputs": [
    {
     "name": "stdout",
     "output_type": "stream",
     "text": [
      "Fitting 3 folds for each of 54 candidates, totalling 162 fits\n"
     ]
    },
    {
     "name": "stderr",
     "output_type": "stream",
     "text": [
      "[Parallel(n_jobs=1)]: Using backend SequentialBackend with 1 concurrent workers.\n",
      "[Parallel(n_jobs=1)]: Done 162 out of 162 | elapsed:  2.6min finished\n",
      "C:\\Users\\Shlok\\anaconda3\\lib\\site-packages\\sklearn\\model_selection\\_search.py:847: FutureWarning: The parameter 'iid' is deprecated in 0.22 and will be removed in 0.24.\n",
      "  warnings.warn(\n"
     ]
    },
    {
     "data": {
      "text/plain": [
       "(0.8806401613939526,\n",
       " {'learning_rate': 0.01,\n",
       "  'max_depth': 5,\n",
       "  'n_estimators': 1000,\n",
       "  'subsample': 0.4})"
      ]
     },
     "execution_count": 27,
     "metadata": {},
     "output_type": "execute_result"
    }
   ],
   "source": [
    "parameters = {\n",
    "     'n_estimators':(100, 500, 1000), \n",
    "     'subsample':(0.4, 0.6, 0.8),\n",
    "     'max_depth':(2, 5, 10),\n",
    "     'learning_rate':(0.01, 0.05)\n",
    "}\n",
    "\n",
    "model = GridSearchCV(LGBMClassifier(),parameters,cv=3,iid=False, scoring='accuracy', verbose=1)\n",
    "model.fit(X_train, np.ravel(y_train))\n",
    "model.best_score_, model.best_params_"
   ]
  },
  {
   "cell_type": "code",
   "execution_count": 30,
   "metadata": {},
   "outputs": [
    {
     "name": "stdout",
     "output_type": "stream",
     "text": [
      "XGB: (0.907134)\n",
      "LightGBM: (0.910668)\n"
     ]
    },
    {
     "name": "stderr",
     "output_type": "stream",
     "text": [
      "Custom logger is already specified. Specify more than one logger at same time is not thread safe."
     ]
    },
    {
     "name": "stdout",
     "output_type": "stream",
     "text": [
      "CatBoost: (0.901028)\n"
     ]
    }
   ],
   "source": [
    "models = []\n",
    "models.append(('XGB', GradientBoostingClassifier(random_state = 12345,learning_rate = 0.05, max_depth = 5, \n",
    "                                                 min_samples_split = 2, n_estimators = 500, subsample = 0.8)))\n",
    "models.append((\"LightGBM\", LGBMClassifier(random_state = 12345,  learning_rate = 0.05, max_depth = 3, n_estimators = 1000)))\n",
    "models.append((\"CatBoost\", CatBoostClassifier(random_state = 12345, verbose = False, depth = 10, \n",
    "                                              iterations = 1000, l2_leaf_reg = 5, learning_rate = 0.01)))\n",
    "\n",
    "for name, model in models:\n",
    "        model.fit(X_train, y_train)\n",
    "        y_pred = model.predict(X_test)\n",
    "        accuracy = accuracy_score(y_test, y_pred)\n",
    "        msg = \"%s: (%f)\" % (name, accuracy)\n",
    "        print(msg)"
   ]
  },
  {
   "cell_type": "code",
   "execution_count": 36,
   "metadata": {},
   "outputs": [
    {
     "data": {
      "image/png": "[encoded data removed]",
      "text/plain": [
       "<Figure size 432x288 with 1 Axes>"
      ]
     },
     "metadata": {
      "needs_background": "light"
     },
     "output_type": "display_data"
    }
   ],
   "source": [
    "model = LGBMClassifier(random_state = 12345,  learning_rate = 0.05, max_depth = 5, n_estimators = 1000)\n",
    "base = model.fit(X_train,y_train)\n",
    "y_pred = base.predict(X_test)\n",
    "acc_score = accuracy_score(y_test, y_pred)\n",
    "feature_imp = pd.Series(base.feature_importances_,\n",
    "                index=X.columns).sort_values(ascending=False)\n",
    "\n",
    "sns.barplot(x=feature_imp, y=feature_imp.index)\n",
    "plt.xlabel('Feature Importance Score')\n",
    "plt.ylabel('Features')\n",
    "plt.title('LightGBM')\n",
    "plt.show()"
   ]
  },
  {
   "cell_type": "code",
   "execution_count": null,
   "metadata": {},
   "outputs": [],
   "source": []
  }
 ],
 "metadata": {
  "kernelspec": {
   "display_name": "Python 3",
   "language": "python",
   "name": "python3"
  },
  "language_info": {
   "codemirror_mode": {
    "name": "ipython",
    "version": 3
   },
   "file_extension": ".py",
   "mimetype": "text/x-python",
   "name": "python",
   "nbconvert_exporter": "python",
   "pygments_lexer": "ipython3",
   "version": "3.8.5"
  }
 },
 "nbformat": 4,
 "nbformat_minor": 4
}
